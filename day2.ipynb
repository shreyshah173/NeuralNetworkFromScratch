{
 "cells": [
  {
   "cell_type": "code",
   "execution_count": 1,
   "metadata": {},
   "outputs": [
    {
     "data": {
      "text/plain": [
       "[4.8, 1.21, 2.385]"
      ]
     },
     "execution_count": 1,
     "metadata": {},
     "output_type": "execute_result"
    }
   ],
   "source": [
    "inputs = [1,2,3,2.5]\n",
    "weight1= [0.2,0.8,-0.5,1.0]\n",
    "weight2= [0.5,-0.91,0.26,-0.5]\n",
    "weight3= [-0.26,-0.27,0.17,0.87]\n",
    "\n",
    "bias1 = 2\n",
    "bias2 = 3\n",
    "bias3 =0.5\n",
    "\n",
    "# 1*0.2 + 2*0.8 + -0.5*3 + 2.5*1.0 + 2 value for first neuron\n",
    "\n",
    "output = []\n",
    "value=0\n",
    "for i in range(len(inputs)):\n",
    "    value+=inputs[i]*weight1[i]\n",
    "output.append(value+bias1)\n",
    "\n",
    "value=0\n",
    "for i in range(len(inputs)):\n",
    "    value+=inputs[i]*weight2[i]\n",
    "output.append(value+bias2)\n",
    "\n",
    "value=0\n",
    "for i in range(len(inputs)):\n",
    "    value+=inputs[i]*weight3[i]\n",
    "output.append(value+bias3)\n",
    "\n",
    "output"
   ]
  }
 ],
 "metadata": {
  "kernelspec": {
   "display_name": "Python 3",
   "language": "python",
   "name": "python3"
  },
  "language_info": {
   "codemirror_mode": {
    "name": "ipython",
    "version": 3
   },
   "file_extension": ".py",
   "mimetype": "text/x-python",
   "name": "python",
   "nbconvert_exporter": "python",
   "pygments_lexer": "ipython3",
   "version": "3.11.0"
  }
 },
 "nbformat": 4,
 "nbformat_minor": 2
}
