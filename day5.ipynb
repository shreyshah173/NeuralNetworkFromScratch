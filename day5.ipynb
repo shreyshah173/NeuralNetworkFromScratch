{
 "cells": [
  {
   "cell_type": "code",
   "execution_count": 1,
   "metadata": {},
   "outputs": [],
   "source": [
    "inputs = [0.2,-1,3.3,-2.7,1.1,2.2,-100]"
   ]
  },
  {
   "cell_type": "code",
   "execution_count": 7,
   "metadata": {},
   "outputs": [],
   "source": [
    "def ReLu(inputs)->list:\n",
    "    output = []\n",
    "    for i in inputs:\n",
    "        output.append((max(0,i)))\n",
    "    return output"
   ]
  },
  {
   "cell_type": "code",
   "execution_count": 8,
   "metadata": {},
   "outputs": [
    {
     "name": "stdout",
     "output_type": "stream",
     "text": [
      "[0.2, 0, 3.3, 0, 1.1, 2.2, 0]\n"
     ]
    }
   ],
   "source": [
    "print(ReLu(inputs))"
   ]
  },
  {
   "cell_type": "code",
   "execution_count": 1,
   "metadata": {},
   "outputs": [],
   "source": [
    "import numpy as np\n",
    "import nnfs\n",
    "from nnfs.datasets import spiral_data"
   ]
  },
  {
   "cell_type": "code",
   "execution_count": 2,
   "metadata": {},
   "outputs": [],
   "source": [
    "nnfs.init()\n",
    "X,y = spiral_data(100,3)"
   ]
  },
  {
   "cell_type": "code",
   "execution_count": 3,
   "metadata": {},
   "outputs": [],
   "source": [
    "class Layer_Dense:\n",
    "    def __init__(self,n_inputs,n_neurons):\n",
    "        self.weights = 0.10 * np.random.randn(n_inputs,n_neurons)\n",
    "        self.biases = np.zeros((1,n_neurons))\n",
    "    \n",
    "    def forward(self,inputs):\n",
    "        self.output = np.dot(inputs,self.weights) + self.biases \n"
   ]
  },
  {
   "cell_type": "code",
   "execution_count": 9,
   "metadata": {},
   "outputs": [],
   "source": [
    "class Activation_Function_ReLu:\n",
    "    def forward(self,inputs):\n",
    "        self.output = np.maximum(inputs,0)"
   ]
  },
  {
   "cell_type": "code",
   "execution_count": 12,
   "metadata": {},
   "outputs": [
    {
     "data": {
      "text/plain": [
       "array([[ 0.00000000e+00,  0.00000000e+00,  0.00000000e+00,\n",
       "         0.00000000e+00,  0.00000000e+00],\n",
       "       [ 5.09662132e-05,  2.82163121e-04, -6.14295888e-04,\n",
       "        -2.78327265e-04, -2.18806133e-04],\n",
       "       [-2.53826292e-05,  1.32260774e-03, -1.89793913e-03,\n",
       "        -1.03709206e-03, -6.62760111e-04],\n",
       "       ...,\n",
       "       [ 1.49472691e-02, -1.03460461e-01,  1.00327469e-01,\n",
       "         6.80047795e-02,  3.40471603e-02],\n",
       "       [ 1.17370244e-02, -1.04946040e-01,  1.14487566e-01,\n",
       "         7.24482983e-02,  3.92385311e-02],\n",
       "       [ 1.57508273e-02, -1.03014432e-01,  9.66713205e-02,\n",
       "         6.68329149e-02,  3.27085815e-02]], dtype=float32)"
      ]
     },
     "execution_count": 12,
     "metadata": {},
     "output_type": "execute_result"
    }
   ],
   "source": [
    "activation1 = Activation_Function_ReLu()\n",
    "layer1 = Layer_Dense(2,5)\n",
    "layer1.forward(X)\n",
    "layer1.output"
   ]
  },
  {
   "cell_type": "code",
   "execution_count": 15,
   "metadata": {},
   "outputs": [
    {
     "data": {
      "text/plain": [
       "array([[0.00000000e+00, 0.00000000e+00, 0.00000000e+00, 0.00000000e+00,\n",
       "        0.00000000e+00],\n",
       "       [5.09662132e-05, 2.82163121e-04, 0.00000000e+00, 0.00000000e+00,\n",
       "        0.00000000e+00],\n",
       "       [0.00000000e+00, 1.32260774e-03, 0.00000000e+00, 0.00000000e+00,\n",
       "        0.00000000e+00],\n",
       "       ...,\n",
       "       [1.49472691e-02, 0.00000000e+00, 1.00327469e-01, 6.80047795e-02,\n",
       "        3.40471603e-02],\n",
       "       [1.17370244e-02, 0.00000000e+00, 1.14487566e-01, 7.24482983e-02,\n",
       "        3.92385311e-02],\n",
       "       [1.57508273e-02, 0.00000000e+00, 9.66713205e-02, 6.68329149e-02,\n",
       "        3.27085815e-02]], dtype=float32)"
      ]
     },
     "execution_count": 15,
     "metadata": {},
     "output_type": "execute_result"
    }
   ],
   "source": [
    "activation1.forward(layer1.output)\n",
    "activation1.output"
   ]
  },
  {
   "cell_type": "code",
   "execution_count": null,
   "metadata": {},
   "outputs": [],
   "source": []
  }
 ],
 "metadata": {
  "kernelspec": {
   "display_name": "Python 3",
   "language": "python",
   "name": "python3"
  },
  "language_info": {
   "codemirror_mode": {
    "name": "ipython",
    "version": 3
   },
   "file_extension": ".py",
   "mimetype": "text/x-python",
   "name": "python",
   "nbconvert_exporter": "python",
   "pygments_lexer": "ipython3",
   "version": "3.11.0"
  }
 },
 "nbformat": 4,
 "nbformat_minor": 2
}
